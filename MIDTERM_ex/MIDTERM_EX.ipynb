{
  "nbformat": 4,
  "nbformat_minor": 0,
  "metadata": {
    "colab": {
      "provenance": []
    },
    "kernelspec": {
      "name": "python3",
      "display_name": "Python 3"
    },
    "language_info": {
      "name": "python"
    }
  },
  "cells": [
    {
      "cell_type": "markdown",
      "source": [
        "## 1\n",
        "```\n",
        "What can Python do?\n",
        "\n",
        "(A)Python can be used on a server to create web applications.\n",
        "\n",
        "(B)Python can be used alongside software to create workflows.\n",
        "\n",
        "(C)Python can connect to database systems. It can also read and modify files.\n",
        "\n",
        "(D)Python can be used to handle big data and perform complex mathematics.\n",
        "\n",
        "\n",
        "\n",
        "-answer: https://www.w3schools.com/python/python_intro.asp\n",
        "\n",
        "What can Python do?\n",
        "\n",
        "Python can be used on a server to create web applications.\n",
        "\n",
        "Python can be used alongside software to create workflows.\n",
        "\n",
        "Python can connect to database systems. It can also read and modify files.\n",
        "\n",
        "Python can be used to handle big data and perform complex mathematics.\n",
        "\n",
        "Python can be used for rapid prototyping, or for production-ready software development. Why Python?\n",
        "\n",
        "2\n",
        "Python uses __________ to indicate a block of code\n",
        "\n",
        "(A) [] (B) {} (C) () (D) indentation\n",
        "\n",
        "answer https://www.w3schools.com/python/python_syntax.asp\n",
        "\n",
        "Python uses indentation to indicate a block of code.\n",
        "\n",
        "ANSWER (D) indentation\n",
        " \n",
        "3\n",
        "Python has commenting capability for the purpose of in-code documentation. Comments start with a __________\n",
        "\n",
        "(A) A (B) # (C) / (D)&\n",
        "\n",
        "ANSWER (B) #\n",
        "\n",
        "4\n",
        "```"
      ],
      "metadata": {
        "id": "NUM-rw_mJ03M"
      }
    },
    {
      "cell_type": "code",
      "source": [
        "fruits = [\"apple\", \"banana\", \"cherry\"]\n",
        "x, y, z = fruits\n",
        "print(x)"
      ],
      "metadata": {
        "colab": {
          "base_uri": "https://localhost:8080/"
        },
        "id": "hOYg8uIrJ7aj",
        "outputId": "1ea04fc3-9407-4ad1-a2cf-430746137897"
      },
      "execution_count": 1,
      "outputs": [
        {
          "output_type": "stream",
          "name": "stdout",
          "text": [
            "apple\n"
          ]
        }
      ]
    },
    {
      "cell_type": "markdown",
      "source": [
        "## answer (A) APPLE"
      ],
      "metadata": {
        "id": "e4zkTcOUJ9IE"
      }
    },
    {
      "cell_type": "markdown",
      "source": [
        "## 5.)"
      ],
      "metadata": {
        "id": "Sj8_e1UmKAAt"
      }
    },
    {
      "cell_type": "code",
      "source": [
        "students = { 'name' : 'alice' , 'score' : 60 }"
      ],
      "metadata": {
        "id": "JB_w5amkKEgi"
      },
      "execution_count": 2,
      "outputs": []
    },
    {
      "cell_type": "markdown",
      "source": [
        "## ANSWER (E) STUDENTS = {  'name' : 'alice' , 'score' : 60 }"
      ],
      "metadata": {
        "id": "fwJcaZT2KG_r"
      }
    },
    {
      "cell_type": "markdown",
      "source": [
        "## 6"
      ],
      "metadata": {
        "id": "bg2A8OzjKLHj"
      }
    },
    {
      "cell_type": "code",
      "source": [
        "x = 5\n",
        "y = \"John\"\n",
        "   \n",
        "print(x + y)"
      ],
      "metadata": {
        "colab": {
          "base_uri": "https://localhost:8080/",
          "height": 202
        },
        "id": "-CPoQPUFKMnr",
        "outputId": "d6eac9ac-2af1-450f-c27d-3b4c375ba534"
      },
      "execution_count": 3,
      "outputs": [
        {
          "output_type": "error",
          "ename": "TypeError",
          "evalue": "ignored",
          "traceback": [
            "\u001b[0;31m---------------------------------------------------------------------------\u001b[0m",
            "\u001b[0;31mTypeError\u001b[0m                                 Traceback (most recent call last)",
            "\u001b[0;32m<ipython-input-3-7c706c77b652>\u001b[0m in \u001b[0;36m<module>\u001b[0;34m\u001b[0m\n\u001b[1;32m      2\u001b[0m \u001b[0my\u001b[0m \u001b[0;34m=\u001b[0m \u001b[0;34m\"John\"\u001b[0m\u001b[0;34m\u001b[0m\u001b[0;34m\u001b[0m\u001b[0m\n\u001b[1;32m      3\u001b[0m \u001b[0;34m\u001b[0m\u001b[0m\n\u001b[0;32m----> 4\u001b[0;31m \u001b[0mprint\u001b[0m\u001b[0;34m(\u001b[0m\u001b[0mx\u001b[0m \u001b[0;34m+\u001b[0m \u001b[0my\u001b[0m\u001b[0;34m)\u001b[0m\u001b[0;34m\u001b[0m\u001b[0;34m\u001b[0m\u001b[0m\n\u001b[0m",
            "\u001b[0;31mTypeError\u001b[0m: unsupported operand type(s) for +: 'int' and 'str'"
          ]
        }
      ]
    },
    {
      "cell_type": "markdown",
      "source": [
        "## ANSWER (D) Python will give you an error"
      ],
      "metadata": {
        "id": "DO4URv-EKOY1"
      }
    },
    {
      "cell_type": "markdown",
      "source": [
        "## 7"
      ],
      "metadata": {
        "id": "KwXsKFITKQQk"
      }
    },
    {
      "cell_type": "markdown",
      "source": [
        "## (A)13//5 output: 2.6\n",
        "\n",
        "(B) 13/5 output: 2.6\n",
        "\n",
        "(C)13%5 output:3\n",
        "\n",
        "(D)y = int(2.8) output:2\n",
        "\n",
        " ANSWER (B) 13/5 output: 2.6"
      ],
      "metadata": {
        "id": "SN7as3S3KSRf"
      }
    },
    {
      "cell_type": "markdown",
      "source": [
        "## 8"
      ],
      "metadata": {
        "id": "fjSrX03CKT3V"
      }
    },
    {
      "cell_type": "markdown",
      "source": [
        "```\n",
        "What does the following Python program fragment do?\n",
        "\n",
        "s=0\n",
        "\n",
        "for i in range (3 , 11) :\n",
        "\n",
        "    s+=i\n",
        "```"
      ],
      "metadata": {
        "id": "MrWob3RgKWQU"
      }
    },
    {
      "cell_type": "code",
      "source": [
        "s=0\n",
        "   \n",
        "for i in range (3 , 11) :       \n",
        " s+=i\n",
        "print (s)"
      ],
      "metadata": {
        "colab": {
          "base_uri": "https://localhost:8080/"
        },
        "id": "t-vsjVTtKd0c",
        "outputId": "597797a6-ed09-4818-c91f-a36fe44069c6"
      },
      "execution_count": 4,
      "outputs": [
        {
          "output_type": "stream",
          "name": "stdout",
          "text": [
            "52\n"
          ]
        }
      ]
    },
    {
      "cell_type": "code",
      "source": [
        "s=0\n",
        "   \n",
        "for i in range (3 , 11) :       \n",
        " s+=i\n",
        "print (s)"
      ],
      "metadata": {
        "id": "fp_PiIE4LCWe"
      },
      "execution_count": null,
      "outputs": []
    },
    {
      "cell_type": "code",
      "source": [
        "x = range(3,11)\n",
        "\n",
        "for n in x:\n",
        "  print(n)"
      ],
      "metadata": {
        "colab": {
          "base_uri": "https://localhost:8080/"
        },
        "id": "OlqJFKedLKFT",
        "outputId": "ebc0b89a-afde-4148-a8a2-faa194eee72e"
      },
      "execution_count": 5,
      "outputs": [
        {
          "output_type": "stream",
          "name": "stdout",
          "text": [
            "3\n",
            "4\n",
            "5\n",
            "6\n",
            "7\n",
            "8\n",
            "9\n",
            "10\n"
          ]
        }
      ]
    },
    {
      "cell_type": "markdown",
      "source": [
        "## ANSWER (D) CALCULATE THE SUM 0F 3+4+5+6...+10"
      ],
      "metadata": {
        "id": "gD3IZBiwK_C2"
      }
    },
    {
      "cell_type": "markdown",
      "source": [
        "## 9\n",
        "```\n",
        "what is the output of this code in python?\n",
        "a = \"hello, world!\"\n",
        "print(a[2:5]+ a[3:8])\n",
        "```"
      ],
      "metadata": {
        "id": "3mFRNgrLLL0M"
      }
    },
    {
      "cell_type": "code",
      "source": [
        "a = \"hello, world!\"\n",
        "print(a[2:5]+ a[3:8])"
      ],
      "metadata": {
        "colab": {
          "base_uri": "https://localhost:8080/"
        },
        "id": "W_kCcdYwLwLE",
        "outputId": "e4044b35-ad6e-4f69-d113-7cb5f0a7fa9c"
      },
      "execution_count": 6,
      "outputs": [
        {
          "output_type": "stream",
          "name": "stdout",
          "text": [
            "llolo, w\n"
          ]
        }
      ]
    },
    {
      "cell_type": "markdown",
      "source": [
        "## answer (c) llolo, w"
      ],
      "metadata": {
        "id": "SbJQrBWUL4gq"
      }
    },
    {
      "cell_type": "markdown",
      "source": [
        "## 10\n",
        "```\n",
        "10\n",
        "Which function can returns the length of a string? a = \"Hello, Pythonian!\" print(_________)\n",
        "\n",
        "(A) len(a) (B) length(a) (C) count(a) (D) num(a)\n",
        "\n",
        "https://www.w3schools.com/python/python_strings.asp\n",
        "\n",
        "```"
      ],
      "metadata": {
        "id": "O1zNz9i_MBL2"
      }
    },
    {
      "cell_type": "markdown",
      "source": [
        "## answer  (B) length"
      ],
      "metadata": {
        "id": "HKSKe_dkMs6j"
      }
    },
    {
      "cell_type": "markdown",
      "source": [
        "## 11\n",
        "```\n",
        "What is the output of this code in Python?\n",
        "\n",
        "  list = [ ' a ' ,  ' b ' ,  ' c ' ,  ' d ' ,  ' e ' ]\n",
        "\n",
        "  print (list [ 1 : ])\n",
        "\n",
        "(A) [ ] (B) [ 'b' ] (C) [ 'a' , 'b' ] (D) [ 'b' , 'c' , 'd' , 'e' ]\n",
        "```"
      ],
      "metadata": {
        "id": "sr8u-kC3MxT1"
      }
    },
    {
      "cell_type": "code",
      "source": [
        "list = [ ' a ' ,  ' b ' ,  ' c ' ,  ' d ' ,  ' e ' ]\n",
        "print (list [ 1 : ])"
      ],
      "metadata": {
        "colab": {
          "base_uri": "https://localhost:8080/"
        },
        "id": "9JNkojSsM1nc",
        "outputId": "cf94c19d-d6ca-4645-8ea3-a4e7886a8bf9"
      },
      "execution_count": 7,
      "outputs": [
        {
          "output_type": "stream",
          "name": "stdout",
          "text": [
            "[' b ', ' c ', ' d ', ' e ']\n"
          ]
        }
      ]
    },
    {
      "cell_type": "markdown",
      "source": [
        "## answer (D) [ 'b' , 'c' , 'd' , 'e' ]"
      ],
      "metadata": {
        "id": "aj3eJvuRM4ob"
      }
    },
    {
      "cell_type": "markdown",
      "source": [
        "## 12\n",
        "```\n",
        "What is the output of this code in Python?\n",
        "\n",
        "    L1 = [ ]\n",
        "\n",
        "    L1.append ( [1, [2, 3], 4] )\n",
        "\n",
        "    L1.extend ( [7, 8, 9] )\n",
        "\n",
        "    print(L1[0][1][1] + L1[2] )\n",
        "```"
      ],
      "metadata": {
        "id": "HPyWL5qFM9U6"
      }
    },
    {
      "cell_type": "code",
      "source": [
        "L1 = []\n",
        "L1.append ( [1, [2, 3], 4] )\n",
        "L1.extend ( [7, 8, 9] )\n",
        "\n",
        "print(L1[0][1][1] + L1[2])"
      ],
      "metadata": {
        "colab": {
          "base_uri": "https://localhost:8080/"
        },
        "id": "PlEFn-6CNE-l",
        "outputId": "f3cf9a48-80cf-4c70-f262-73741d803dc0"
      },
      "execution_count": 8,
      "outputs": [
        {
          "output_type": "stream",
          "name": "stdout",
          "text": [
            "11\n"
          ]
        }
      ]
    },
    {
      "cell_type": "markdown",
      "source": [
        "##  answer (C) 11"
      ],
      "metadata": {
        "id": "dM-q52byM_da"
      }
    },
    {
      "cell_type": "markdown",
      "source": [
        "## 13\n",
        "Check if \"free\" is present in the following text:\n",
        "\n",
        "txt = \"The best things in life are free!\" print(\"free\" ______ txt)\n",
        "\n",
        "Which is the correct answer?\n",
        "\n",
        "(A) on (B) with (C) at (D) in"
      ],
      "metadata": {
        "id": "Ipd0AJjVNKsz"
      }
    },
    {
      "cell_type": "code",
      "source": [
        "txt = \"The best things in life are free!\"\n",
        "print(\"free\" in txt)"
      ],
      "metadata": {
        "colab": {
          "base_uri": "https://localhost:8080/"
        },
        "id": "rVZgH3EpNMzL",
        "outputId": "fc61a760-d25d-40ac-d558-cc9c4994455b"
      },
      "execution_count": 9,
      "outputs": [
        {
          "output_type": "stream",
          "name": "stdout",
          "text": [
            "True\n"
          ]
        }
      ]
    },
    {
      "cell_type": "markdown",
      "source": [
        "## answer (D)in"
      ],
      "metadata": {
        "id": "hZ5bZIKrNO4l"
      }
    },
    {
      "cell_type": "markdown",
      "source": [
        "## 14\n",
        "```\n",
        "14\n",
        "Which of the following conditions correctly describes the output of this code in Python?\n",
        "\n",
        "     first = [1 , 2 , 3 , 4 , 5]\n",
        "\n",
        "     second = first\n",
        "\n",
        "     second.append (6)\n",
        "\n",
        "     print (first)\n",
        "\n",
        "     print (second)\n",
        "\n",
        "(A) first=[1, 2, 3, 4, 5], second=[1, 2, 3, 4, 5, 6]\n",
        "\n",
        "(B) first=[1, 2, 3, 4, 5, 6], second=[1, 2, 3, 4, 5]\n",
        "\n",
        "(C) first=[1, 2, 3, 4, 5], second=[1, 2, 3, 4, 5]\n",
        "\n",
        "(D) first=[1, 2, 3, 4, 5, 6], second=[1, 2, 3, 4, 5, 6]\n",
        "\n",
        "(E) None of these\n",
        "```"
      ],
      "metadata": {
        "id": "6DICJlMtNXab"
      }
    },
    {
      "cell_type": "code",
      "source": [
        "first = [1 , 2 , 3 , 4 , 5]\n",
        "second = first\n",
        "second.append (6)\n",
        "print (first)\n",
        "print (second)"
      ],
      "metadata": {
        "colab": {
          "base_uri": "https://localhost:8080/"
        },
        "id": "Fm2p50e4NbYU",
        "outputId": "87fb6c30-e0b6-460d-fdeb-16acba56b813"
      },
      "execution_count": 10,
      "outputs": [
        {
          "output_type": "stream",
          "name": "stdout",
          "text": [
            "[1, 2, 3, 4, 5, 6]\n",
            "[1, 2, 3, 4, 5, 6]\n"
          ]
        }
      ]
    },
    {
      "cell_type": "markdown",
      "source": [
        "## answer (D) first=[1, 2, 3, 4, 5, 6], second=[1, 2, 3, 4, 5, 6]"
      ],
      "metadata": {
        "id": "n8Gsid2lNer8"
      }
    },
    {
      "cell_type": "markdown",
      "source": [
        "## 15\n",
        "```\n",
        "Python has a set of built-in methods that you can use on strings. Which method can converts string into lower case ?\n",
        "\n",
        "(A)capitalize() (B) casefold() (C) lower()\n",
        "(D)expandtabs()\n",
        "\n",
        "https://www.google.com/search?q=Python+has+a+set+of+built-in+methods+that+you+can+use+on+strings.+Which+method+can+converts+string+into+lower+case+%3F&rlz=1C1ONGR_enPH1023PH1023&oq=Python+has+a+set+of+built-in+methods+that+you+can+use+on+strings.+Which+method+can+converts+string+into+lower+case+%3F&aqs=chrome..69i57.263j0j9&sourceid=chrome&ie=UTF-8\n",
        "\n",
        "(C) lower ()\n",
        "```"
      ],
      "metadata": {
        "id": "Iy3YF6PYNlsd"
      }
    },
    {
      "cell_type": "markdown",
      "source": [
        "## 16\n",
        "```\n",
        "Python Booleans Which one of the following statements is wrong?\n",
        "\n",
        "(A) Booleans represent one of two values: True or False.\n",
        "\n",
        "(B) The bool() function allows you to evaluate any value, and give you True or False in return,\n",
        "\n",
        "(C) print(10 > 9) will output True\n",
        "\n",
        "(D) print(10 = 9) will output True\n",
        "```"
      ],
      "metadata": {
        "id": "8x8ufp_qNrD7"
      }
    },
    {
      "cell_type": "code",
      "source": [
        "print(10 = 9)"
      ],
      "metadata": {
        "colab": {
          "base_uri": "https://localhost:8080/",
          "height": 132
        },
        "id": "Xcr530yrNver",
        "outputId": "d7f7fd79-5367-4143-9546-e4ff71cc4d5c"
      },
      "execution_count": 11,
      "outputs": [
        {
          "output_type": "error",
          "ename": "SyntaxError",
          "evalue": "ignored",
          "traceback": [
            "\u001b[0;36m  File \u001b[0;32m\"<ipython-input-11-bfffe3a677b9>\"\u001b[0;36m, line \u001b[0;32m1\u001b[0m\n\u001b[0;31m    print(10 = 9)\u001b[0m\n\u001b[0m         ^\u001b[0m\n\u001b[0;31mSyntaxError\u001b[0m\u001b[0;31m:\u001b[0m keyword can't be an expression\n"
          ]
        }
      ]
    },
    {
      "cell_type": "markdown",
      "source": [
        "## answer (D) print(10 = 9) will output True"
      ],
      "metadata": {
        "id": "oV0TIkQpNxMN"
      }
    },
    {
      "cell_type": "markdown",
      "source": [
        "## 17\n",
        "```\n",
        "Python Lists Which of the following statements is wrong?\n",
        "\n",
        "(A) Lists are used to store multiple items in a single variable.\n",
        "\n",
        "(B) Lists are created using square brackets\n",
        "\n",
        "(C) List items are ordered, changeable, and allow duplicate values.\n",
        "\n",
        "(D) Lists can not have items with the same value\n",
        "```"
      ],
      "metadata": {
        "id": "wffO03V5N0iD"
      }
    },
    {
      "cell_type": "markdown",
      "source": [
        "## answer (D) Lists can not have items with the same value"
      ],
      "metadata": {
        "id": "lxND47h6N3Sr"
      }
    },
    {
      "cell_type": "markdown",
      "source": [
        "## 18\n",
        "```\n",
        "Which one of the codes will output ['apple', 'orange', 'banana', 'cherry'] ?\n",
        "\n",
        "mylist = [\"apple\", \"banana\", \"cherry\"] _____________________ print(mylist)\n",
        "\n",
        "(A)mylist.append(\"orange\")\n",
        "\n",
        "(B)mylist.insert(0, \"orange\")\n",
        "\n",
        "(C)mylist.insert(1, \"orange\")\n",
        "\n",
        "(D)mylist.insert(2, \"orange\")\n",
        "```"
      ],
      "metadata": {
        "id": "zXe8Wct5N64s"
      }
    },
    {
      "cell_type": "code",
      "source": [
        "['apple', 'orange', 'banana', 'cherry']\n",
        "mylist = [\"apple\", \"banana\", \"cherry\"]\n",
        "\n",
        "mylist.insert(1, \"orange\")   \n",
        "print(mylist)"
      ],
      "metadata": {
        "colab": {
          "base_uri": "https://localhost:8080/"
        },
        "id": "Jm6z0aemN_m-",
        "outputId": "b7762154-3146-4902-eb4a-6d58d72fc422"
      },
      "execution_count": 12,
      "outputs": [
        {
          "output_type": "stream",
          "name": "stdout",
          "text": [
            "['apple', 'orange', 'banana', 'cherry']\n"
          ]
        }
      ]
    },
    {
      "cell_type": "markdown",
      "source": [
        "## answer (C)mylist.insert(1, \"orange\")"
      ],
      "metadata": {
        "id": "7OqyPu1IOBzL"
      }
    },
    {
      "cell_type": "markdown",
      "source": [
        "## 19\n",
        "```\n",
        "Python has a set of built-in methods that you can use on dictionaries. Which statements are correct ?\n",
        "\n",
        "(A) clear() will removes all the elements from the dictionary\n",
        "\n",
        "(B) copy() will returns a copy of the dictionary\n",
        "\n",
        "(C) items() will returns a list containing a tuple for each key value pair\n",
        "\n",
        "(D) popitem() will removes the last inserted key-value pair\n",
        "```"
      ],
      "metadata": {
        "id": "uyJ9eY53OEnT"
      }
    },
    {
      "cell_type": "markdown",
      "source": [
        "## answer (C) items() will returns a list containing a tuple for each key value pair"
      ],
      "metadata": {
        "id": "KKThmZQPOJEE"
      }
    },
    {
      "cell_type": "markdown",
      "source": [
        "## 20\n",
        "Python supports the usual logical conditions from mathematics: Which statements are correct ?\n",
        "\n",
        "(A)Equals: a = b\n",
        "\n",
        "(B)Not Equals: a != b\n",
        "\n",
        "(C)Less than or equal to: a <= b\n",
        "\n",
        "(D)Greater than: a > b"
      ],
      "metadata": {
        "id": "Ej0AYuwvOL2z"
      }
    },
    {
      "cell_type": "markdown",
      "source": [
        "## answer \n",
        "(A)Equals: a = b \n",
        "(C)Less than or equal to: a <= b \n",
        "(D)Greater than: a > b"
      ],
      "metadata": {
        "id": "sxtm9WwPOOmt"
      }
    },
    {
      "cell_type": "markdown",
      "source": [
        "## 21\n",
        "What is the output of this code in Python?"
      ],
      "metadata": {
        "id": "QwgtWjYjOfkz"
      }
    },
    {
      "cell_type": "code",
      "source": [
        "i = 1\n",
        "while i < 6:\n",
        "  print(i)\n",
        "  if (i == 3):\n",
        "    break\n",
        "  i += 1"
      ],
      "metadata": {
        "colab": {
          "base_uri": "https://localhost:8080/"
        },
        "id": "gNN55VwFOW8F",
        "outputId": "11132771-5aea-4645-8616-dd1b51cc62fb"
      },
      "execution_count": 13,
      "outputs": [
        {
          "output_type": "stream",
          "name": "stdout",
          "text": [
            "1\n",
            "2\n",
            "3\n"
          ]
        }
      ]
    },
    {
      "cell_type": "markdown",
      "source": [
        "## answer\n",
        "(A)\n",
        "\n",
        "1\n",
        "\n",
        "2\n",
        "\n",
        "3"
      ],
      "metadata": {
        "id": "7Q-g_HAAOkjm"
      }
    },
    {
      "cell_type": "markdown",
      "source": [
        "## 22\n",
        "What is the output of this code in Python?"
      ],
      "metadata": {
        "id": "MNx1nB2fOnkk"
      }
    },
    {
      "cell_type": "code",
      "source": [
        "i = 0\n",
        "while i < 6:\n",
        "  i += 1\n",
        "  if i == 3:\n",
        "    continue\n",
        "  print(i)"
      ],
      "metadata": {
        "colab": {
          "base_uri": "https://localhost:8080/"
        },
        "id": "MyTl5o8_Opn8",
        "outputId": "47f30bca-571b-4ec7-a65e-a4fa457b0132"
      },
      "execution_count": 14,
      "outputs": [
        {
          "output_type": "stream",
          "name": "stdout",
          "text": [
            "1\n",
            "2\n",
            "4\n",
            "5\n",
            "6\n"
          ]
        }
      ]
    },
    {
      "cell_type": "markdown",
      "source": [
        "## (B)\n",
        "\n",
        "1\n",
        "\n",
        "2\n",
        "\n",
        "4\n",
        "\n",
        "5\n",
        "\n",
        "6"
      ],
      "metadata": {
        "id": "MgsPpzytOrfs"
      }
    },
    {
      "cell_type": "markdown",
      "source": [
        "\n",
        "## 23\n",
        "If the function int volume (int x = 1, int y = 1, int z = 1); is called by the expression volume (7,8), how many default arguments are used?\n",
        "\n",
        "(A) None (B) One (C) Two (D) Three (E) It depends on the runtime environment."
      ],
      "metadata": {
        "id": "YtHfYutROu08"
      }
    },
    {
      "cell_type": "markdown",
      "source": [
        "## answer (C) Two"
      ],
      "metadata": {
        "id": "8Yq7VU_HOyWM"
      }
    },
    {
      "cell_type": "markdown",
      "source": [
        "## 24\n",
        "```\n",
        "What is the output of this code in python?\n",
        "\n",
        "    r = lambda q: q * 2\n",
        "\n",
        "    s = lambda q: q * 3\n",
        "\n",
        "    x = 2\n",
        "\n",
        "    x = r (x)\n",
        "\n",
        "    x = s (x)\n",
        "\n",
        "    x = r (x)\n",
        "\n",
        "    print (x\n",
        "\n",
        "    A) 2  (B) 4  (C) 6  (D) 12  (E) 24\n",
        "```"
      ],
      "metadata": {
        "id": "goBANH_LO3Ml"
      }
    },
    {
      "cell_type": "code",
      "source": [
        "r = lambda q: q * 2\n",
        "s = lambda q: q * 3\n",
        "x = 2\n",
        "x = r (x)\n",
        "x = s (x)\n",
        "x = r (x)\n",
        "print (x)"
      ],
      "metadata": {
        "colab": {
          "base_uri": "https://localhost:8080/"
        },
        "id": "9xoJPULyO8JD",
        "outputId": "a2e79d05-b05b-406a-8a65-20e3299c09dd"
      },
      "execution_count": 15,
      "outputs": [
        {
          "output_type": "stream",
          "name": "stdout",
          "text": [
            "24\n"
          ]
        }
      ]
    },
    {
      "cell_type": "markdown",
      "source": [
        "## answer (E) 24"
      ],
      "metadata": {
        "id": "FjH_ngEBO9oT"
      }
    },
    {
      "cell_type": "markdown",
      "source": [
        "## 25\n",
        "```\n",
        "A recursive function is defined as below: def tri_recursion(k):\n",
        "\n",
        "if(k > 0):\n",
        "\n",
        "result = k + tri_recursion(k - 1)\n",
        "\n",
        "print(result)\n",
        "\n",
        "else:\n",
        "\n",
        "result = 0\n",
        "\n",
        "return result\n",
        "\n",
        "What Is The Last Line Of The Output When tri_recursion(6) is executed?\n",
        "\n",
        "(A) 6 (B) 10 (C) 15 (D) 21 (E) 28\n",
        "```"
      ],
      "metadata": {
        "id": "-SK1NgyFPAK_"
      }
    },
    {
      "cell_type": "code",
      "source": [
        "def tri_recursion(k):\n",
        "  if(k > 0):\n",
        "    result = k + tri_recursion(k - 1)\n",
        "    print(result)\n",
        "  else:\n",
        "    result = 0\n",
        "  return result"
      ],
      "metadata": {
        "id": "TtnxbMWYPE8T"
      },
      "execution_count": 16,
      "outputs": []
    },
    {
      "cell_type": "markdown",
      "source": [
        "## answer (D) 21"
      ],
      "metadata": {
        "id": "3qCkFkgnPG1z"
      }
    }
  ]
}