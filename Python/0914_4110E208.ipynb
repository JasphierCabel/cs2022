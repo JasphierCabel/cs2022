{
  "nbformat": 4,
  "nbformat_minor": 0,
  "metadata": {
    "colab": {
      "provenance": [],
      "collapsed_sections": []
    },
    "kernelspec": {
      "name": "python3",
      "display_name": "Python 3"
    },
    "language_info": {
      "name": "python"
    }
  },
  "cells": [
    {
      "cell_type": "markdown",
      "source": [
        "## 0914 4110E208\n",
        "```\n",
        "Python Dictionaries Exercise\n",
        "\n",
        "Exercise 1 : Use the get method to print the value of the \"model\" key of the car dictionary.\n",
        "````"
      ],
      "metadata": {
        "id": "tSxHyUcCdLYA"
      }
    },
    {
      "cell_type": "code",
      "execution_count": 6,
      "metadata": {
        "colab": {
          "base_uri": "https://localhost:8080/"
        },
        "id": "vZdtscUsdJHZ",
        "outputId": "d67e376d-f7c1-4512-c945-9cad1a5b312f"
      },
      "outputs": [
        {
          "output_type": "stream",
          "name": "stdout",
          "text": [
            "GT-R\n"
          ]
        }
      ],
      "source": [
        "car =\t{\n",
        "  \"brand\": \"Nissan\",\n",
        "  \"model\": \"GT-R\",\n",
        "  \"year\": 2016\n",
        "}\n",
        "print(car.get(\"model\"))"
      ]
    },
    {
      "cell_type": "markdown",
      "source": [
        "```\n",
        "Mustang\n",
        "Exercise 2 : Change the \"year\" value from 1964 to 2020.\n",
        "```"
      ],
      "metadata": {
        "id": "CwMBnbLHehED"
      }
    },
    {
      "cell_type": "code",
      "source": [
        "car =\t{\n",
        "  \"brand\": \"Nissan\",\n",
        "  \"model\": \"GT-R\",\n",
        "  \"year\": 2016\n",
        "}\n",
        "car[\"year\"] = 2020\n",
        "\n",
        "print(car)"
      ],
      "metadata": {
        "colab": {
          "base_uri": "https://localhost:8080/"
        },
        "id": "ZdBorZ1beqBA",
        "outputId": "4d6f8a13-62e7-4bc2-a8aa-b466995d0e83"
      },
      "execution_count": 5,
      "outputs": [
        {
          "output_type": "stream",
          "name": "stdout",
          "text": [
            "{'brand': 'Nissan', 'model': 'GT-R', 'year': 2020}\n"
          ]
        }
      ]
    },
    {
      "cell_type": "markdown",
      "source": [
        "```\n",
        "{'brand': 'Nissan', 'model': 'GT-R', 'year': 2020}\n",
        "Exercise 3 : Add the key/value pair \"color\" : \"red\" to the car dictionary.\n",
        "```"
      ],
      "metadata": {
        "id": "1iMOTckyfmzZ"
      }
    },
    {
      "cell_type": "code",
      "source": [
        "car =\t{\n",
        "  \"brand\": \"Nissan\",\n",
        "  \"model\": \"GT-R\",\n",
        "  \"year\": 2016\n",
        "}\n",
        "car[\"color\"] = \"red\"\n",
        "\n",
        "print(car)"
      ],
      "metadata": {
        "colab": {
          "base_uri": "https://localhost:8080/"
        },
        "id": "XV-KVNhOf__m",
        "outputId": "91a104af-ee8e-49c8-9198-96452d4637e6"
      },
      "execution_count": 4,
      "outputs": [
        {
          "output_type": "stream",
          "name": "stdout",
          "text": [
            "{'brand': 'Nissan', 'model': 'GT-R', 'year': 2016, 'color': 'red'}\n"
          ]
        }
      ]
    },
    {
      "cell_type": "markdown",
      "source": [
        "```\n",
        "{'brand': 'Nissan', 'model': 'FT-R', 'year': 2016, 'color': 'red'}\n",
        "Exercise 4 : Use the pop method to remove \"model\" from the car dictionary.\n",
        "```\n"
      ],
      "metadata": {
        "id": "dA5kx9RogKaH"
      }
    },
    {
      "cell_type": "code",
      "source": [
        "car =\t{\n",
        "  \"brand\": \"Nissan\",\n",
        "  \"model\": \"GT-R\",\n",
        "  \"year\": 2016\n",
        "}\n",
        "car.pop(\"model\")\n",
        "\n",
        "print(car)"
      ],
      "metadata": {
        "colab": {
          "base_uri": "https://localhost:8080/"
        },
        "id": "7C_ME4ahfsNP",
        "outputId": "77be49d6-4878-4704-a72c-4f90d48de5fa"
      },
      "execution_count": 3,
      "outputs": [
        {
          "output_type": "stream",
          "name": "stdout",
          "text": [
            "{'brand': 'Nissan', 'year': 2016}\n"
          ]
        }
      ]
    },
    {
      "cell_type": "markdown",
      "source": [
        "```\n",
        "Exercise 5 : Use the clear method to empty the car dictionary.\n",
        "```"
      ],
      "metadata": {
        "id": "MA0H9NmjgoVX"
      }
    },
    {
      "cell_type": "code",
      "source": [
        "car =\t{\n",
        "  \"brand\": \"Nissan\",\n",
        "  \"model\": \"GT-R\",\n",
        "  \"year\": 2016\n",
        "}\n",
        "car.clear()\n",
        "\n",
        "print(car)"
      ],
      "metadata": {
        "colab": {
          "base_uri": "https://localhost:8080/"
        },
        "id": "p89ctLJCgqva",
        "outputId": "10fb3d51-3275-40c2-a8bd-4112ad913b8d"
      },
      "execution_count": 2,
      "outputs": [
        {
          "output_type": "stream",
          "name": "stdout",
          "text": [
            "{}\n"
          ]
        }
      ]
    }
  ]
}