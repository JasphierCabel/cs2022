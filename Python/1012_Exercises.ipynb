{
  "nbformat": 4,
  "nbformat_minor": 0,
  "metadata": {
    "colab": {
      "provenance": [],
      "collapsed_sections": []
    },
    "kernelspec": {
      "name": "python3",
      "display_name": "Python 3"
    },
    "language_info": {
      "name": "python"
    }
  },
  "cells": [
    {
      "cell_type": "markdown",
      "source": [
        "```\n",
        "Exercise 1 : Print the second item in the fruits list.\n",
        "```"
      ],
      "metadata": {
        "id": "Ql2iIalCo8bF"
      }
    },
    {
      "cell_type": "code",
      "source": [
        "fruits = [\"apple\", \"orange\", \"cherry\"]\n",
        "print(fruits[1])"
      ],
      "metadata": {
        "colab": {
          "base_uri": "https://localhost:8080/"
        },
        "id": "gQNmfpwFouq0",
        "outputId": "ead9225c-ec95-4b33-8fb8-ca4b8831e304"
      },
      "execution_count": 1,
      "outputs": [
        {
          "output_type": "stream",
          "name": "stdout",
          "text": [
            "orange\n"
          ]
        }
      ]
    },
    {
      "cell_type": "markdown",
      "source": [
        "```\n",
        "Exercise 2 : Change the value from \"apple\" to \"banana\", in the fruits list.\n",
        "```"
      ],
      "metadata": {
        "id": "zAperNMco075"
      }
    },
    {
      "cell_type": "code",
      "source": [
        "fruits = [\"apple\", \"orange\", \"cherry\"]\n",
        "fruits[0] = \"banana\"\n",
        "print(fruits)"
      ],
      "metadata": {
        "colab": {
          "base_uri": "https://localhost:8080/"
        },
        "id": "XvS9bsfSo2TB",
        "outputId": "8205c7d4-96c7-4482-a9d7-6e181f8b23ca"
      },
      "execution_count": 2,
      "outputs": [
        {
          "output_type": "stream",
          "name": "stdout",
          "text": [
            "['banana', 'orange', 'cherry']\n"
          ]
        }
      ]
    },
    {
      "cell_type": "markdown",
      "source": [
        "```\n",
        "Exercise 3 : Use the append method to add \"orange\" to the fruits list.\n",
        "```\n"
      ],
      "metadata": {
        "id": "yg3483Hno9tr"
      }
    },
    {
      "cell_type": "code",
      "source": [
        "fruits = [\"apple\", \"orange\", \"cherry\"]\n",
        "fruits.append(\"orange\")\n",
        "print(fruits)"
      ],
      "metadata": {
        "colab": {
          "base_uri": "https://localhost:8080/"
        },
        "id": "9TA4Fsl8pQzP",
        "outputId": "aee0eff7-328c-43fc-94b8-10b6fac6629d"
      },
      "execution_count": 5,
      "outputs": [
        {
          "output_type": "stream",
          "name": "stdout",
          "text": [
            "['apple', 'orange', 'cherry', 'orange']\n"
          ]
        }
      ]
    },
    {
      "cell_type": "markdown",
      "source": [
        "```\n",
        "Exercise 4 : Use the insert method to add \"lemon\" as the second item in the fruits list.\n",
        "```"
      ],
      "metadata": {
        "id": "w2l0ZUsepZFi"
      }
    },
    {
      "cell_type": "code",
      "source": [
        "fruits = [\"apple\", \"orange\", \"cherry\"]\n",
        "fruits.insert(1,\"lemon\")\n",
        "print(fruits)"
      ],
      "metadata": {
        "colab": {
          "base_uri": "https://localhost:8080/"
        },
        "id": "t-4TZLx6parR",
        "outputId": "9bc4ce95-6c5f-4e30-a125-b7a616ebd15d"
      },
      "execution_count": 4,
      "outputs": [
        {
          "output_type": "stream",
          "name": "stdout",
          "text": [
            "['apple', 'lemon', 'orange', 'cherry']\n"
          ]
        }
      ]
    },
    {
      "cell_type": "markdown",
      "source": [
        "```\n",
        "Exercise 5 : Use the remove method to remove \"orange\" from the fruits list.\n",
        "```"
      ],
      "metadata": {
        "id": "qvqxxCFgpxjt"
      }
    },
    {
      "cell_type": "code",
      "source": [
        "fruits = [\"apple\", \"orange\", \"cherry\"]\n",
        "fruits.remove(\"orange\")\n",
        "print(fruits)"
      ],
      "metadata": {
        "colab": {
          "base_uri": "https://localhost:8080/"
        },
        "id": "5Vt_U9bmp50E",
        "outputId": "24b5f56f-75b8-4ae4-fe0c-bfbef0ba5559"
      },
      "execution_count": 6,
      "outputs": [
        {
          "output_type": "stream",
          "name": "stdout",
          "text": [
            "['apple', 'cherry']\n"
          ]
        }
      ]
    },
    {
      "cell_type": "markdown",
      "source": [
        "```\n",
        "Exercise 6 : Use negative indexing to print the last item in the list.\n",
        "```"
      ],
      "metadata": {
        "id": "NCq5cMCGp_KK"
      }
    },
    {
      "cell_type": "code",
      "source": [
        "fruits = [\"apple\", \"orange\", \"cherry\"]\n",
        "print(fruits[-1])"
      ],
      "metadata": {
        "colab": {
          "base_uri": "https://localhost:8080/"
        },
        "id": "CrWo-JrjqA8C",
        "outputId": "b9bfa5e0-65e4-41cd-fb07-c900c1f98076"
      },
      "execution_count": 7,
      "outputs": [
        {
          "output_type": "stream",
          "name": "stdout",
          "text": [
            "cherry\n"
          ]
        }
      ]
    },
    {
      "cell_type": "markdown",
      "source": [
        "```\n",
        "Exercise 7 : Use a range of indexes to print the third, fourth, and fifth item in the list.\n",
        "```"
      ],
      "metadata": {
        "id": "bMPgVk5PqF_k"
      }
    },
    {
      "cell_type": "code",
      "source": [
        "fruits = [\"apple\", \"banana\", \"cherry\", \"orange\", \"kiwi\", \"melon\", \"mango\"]\n",
        "print(fruits[2:7])"
      ],
      "metadata": {
        "colab": {
          "base_uri": "https://localhost:8080/"
        },
        "id": "UNhT1GaHqJZK",
        "outputId": "63ca8727-8e6b-4993-a62d-11b363e0de08"
      },
      "execution_count": 9,
      "outputs": [
        {
          "output_type": "stream",
          "name": "stdout",
          "text": [
            "['cherry', 'orange', 'kiwi', 'melon', 'mango']\n"
          ]
        }
      ]
    },
    {
      "cell_type": "markdown",
      "source": [
        "```\n",
        "Exercise 8 : Use the correct syntax to print the number of items in the list.\n",
        "```"
      ],
      "metadata": {
        "id": "6GNFmOBXqWw1"
      }
    },
    {
      "cell_type": "code",
      "source": [
        "fruits = [\"apple\", \"orange\", \"cherry\"]\n",
        "print(len(fruits))"
      ],
      "metadata": {
        "colab": {
          "base_uri": "https://localhost:8080/"
        },
        "id": "MAGL6O3JqaQS",
        "outputId": "72be19a7-61bb-468c-8d16-8ecdb0a622d1"
      },
      "execution_count": 10,
      "outputs": [
        {
          "output_type": "stream",
          "name": "stdout",
          "text": [
            "3\n"
          ]
        }
      ]
    },
    {
      "cell_type": "markdown",
      "source": [
        "```\n",
        "Example 2: remove() method on a list having duplicate elements\n",
        "```"
      ],
      "metadata": {
        "id": "TJ7bVnhTqWus"
      }
    },
    {
      "cell_type": "code",
      "source": [
        "# animals list\n",
        "animals = ['lion', 'tiger', 'tiger', 'guinea pig', 'tiger']\n",
        "\n",
        "# 'dog' is removed\n",
        "animals.remove('tiger')\n",
        "\n",
        "\n",
        "# Updated animals list\n",
        "print('Updated animals list: ', animals)"
      ],
      "metadata": {
        "colab": {
          "base_uri": "https://localhost:8080/"
        },
        "id": "8ZZ4Au3Hqi_8",
        "outputId": "10efa0a6-0bea-4e79-beea-2bae1093acf1"
      },
      "execution_count": 12,
      "outputs": [
        {
          "output_type": "stream",
          "name": "stdout",
          "text": [
            "Updated animals list:  ['lion', 'tiger', 'guinea pig', 'tiger']\n"
          ]
        }
      ]
    },
    {
      "cell_type": "markdown",
      "source": [
        "```\n",
        "Example 3: Deleting element that doesn't exist\n",
        "```"
      ],
      "metadata": {
        "id": "jzAo_2byqzGy"
      }
    },
    {
      "cell_type": "code",
      "source": [
        "# animals list\n",
        "animals = ['cat', 'tiger', 'dog', 'guinea tiger']\n",
        "\n",
        "# Deleting 'fish' element\n",
        "animals.remove('fish')\n",
        "\n",
        "\n",
        "# Updated animals List\n",
        "print('Updated animals list: ', animals)"
      ],
      "metadata": {
        "colab": {
          "base_uri": "https://localhost:8080/",
          "height": 237
        },
        "id": "oDPRXq3Vq21r",
        "outputId": "0f7257dc-7340-48da-ab6a-3ccee9e40ad1"
      },
      "execution_count": 13,
      "outputs": [
        {
          "output_type": "error",
          "ename": "ValueError",
          "evalue": "ignored",
          "traceback": [
            "\u001b[0;31m---------------------------------------------------------------------------\u001b[0m",
            "\u001b[0;31mValueError\u001b[0m                                Traceback (most recent call last)",
            "\u001b[0;32m<ipython-input-13-425845f6d49b>\u001b[0m in \u001b[0;36m<module>\u001b[0;34m\u001b[0m\n\u001b[1;32m      3\u001b[0m \u001b[0;34m\u001b[0m\u001b[0m\n\u001b[1;32m      4\u001b[0m \u001b[0;31m# Deleting 'fish' element\u001b[0m\u001b[0;34m\u001b[0m\u001b[0;34m\u001b[0m\u001b[0;34m\u001b[0m\u001b[0m\n\u001b[0;32m----> 5\u001b[0;31m \u001b[0manimals\u001b[0m\u001b[0;34m.\u001b[0m\u001b[0mremove\u001b[0m\u001b[0;34m(\u001b[0m\u001b[0;34m'fish'\u001b[0m\u001b[0;34m)\u001b[0m\u001b[0;34m\u001b[0m\u001b[0;34m\u001b[0m\u001b[0m\n\u001b[0m\u001b[1;32m      6\u001b[0m \u001b[0;34m\u001b[0m\u001b[0m\n\u001b[1;32m      7\u001b[0m \u001b[0;34m\u001b[0m\u001b[0m\n",
            "\u001b[0;31mValueError\u001b[0m: list.remove(x): x not in list"
          ]
        }
      ]
    }
  ]
}