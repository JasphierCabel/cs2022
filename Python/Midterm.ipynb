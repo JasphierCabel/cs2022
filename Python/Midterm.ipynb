{
  "nbformat": 4,
  "nbformat_minor": 0,
  "metadata": {
    "colab": {
      "provenance": []
    },
    "kernelspec": {
      "name": "python3",
      "display_name": "Python 3"
    },
    "language_info": {
      "name": "python"
    }
  },
  "cells": [
    {
      "cell_type": "markdown",
      "source": [
        "## 1\n",
        "```\n",
        "f(n) = 1+2+3+....+(n-1)+n\n",
        "     = f(n-1) + n\n",
        "     \n",
        "termination: f(1) = 1\n",
        "recurrence  relation : f(n) = f(n-1) + n\n",
        "\n",
        "\n",
        "input: n\n",
        "output: f(n) \n",
        "    print(f(10))\n",
        "  \n",
        "1.write a recursive function for f(n)\n",
        "2.write a iterative function for f(n)\n",
        "```"
      ],
      "metadata": {
        "id": "o5gxxlHNN3Oy"
      }
    },
    {
      "cell_type": "code",
      "source": [
        "def recursion(f):\n",
        "  if(f > 1):\n",
        "    result = f + recursion(f - 1)\n",
        "    print(result)\n",
        "  else:\n",
        "    result = 0\n",
        "  return result\n",
        "\n",
        "print(\"\\n\")\n",
        "recursion(10)\n"
      ],
      "metadata": {
        "colab": {
          "base_uri": "https://localhost:8080/"
        },
        "id": "8MbAtlXOOGtq",
        "outputId": "95d0887b-d9ae-4f0b-8a6b-684c0585bc8d"
      },
      "execution_count": null,
      "outputs": [
        {
          "output_type": "stream",
          "name": "stdout",
          "text": [
            "\n",
            "\n",
            "2\n",
            "5\n",
            "9\n",
            "14\n",
            "20\n",
            "27\n",
            "35\n",
            "44\n",
            "54\n"
          ]
        },
        {
          "output_type": "execute_result",
          "data": {
            "text/plain": [
              "54"
            ]
          },
          "metadata": {},
          "execution_count": 4
        }
      ]
    },
    {
      "cell_type": "code",
      "execution_count": null,
      "metadata": {
        "id": "bErj_NrvHdqQ",
        "colab": {
          "base_uri": "https://localhost:8080/"
        },
        "outputId": "70c0375e-c0fc-4069-88d7-5fbf34e60f50"
      },
      "outputs": [
        {
          "output_type": "stream",
          "name": "stdout",
          "text": [
            "Bugatti\n",
            "Lexus\n",
            "Ford\n"
          ]
        }
      ],
      "source": [
        "cars = [\"Bugatti\", \"Lexus\", \"Ford\"]\n",
        "i = 0\n",
        "while (i < len(cars)):\n",
        "    print(cars[i])\n",
        "    i += 1"
      ]
    },
    {
      "cell_type": "markdown",
      "source": [
        "## EXAMPLE 2\n",
        "```\n",
        "f(n) = n!\n",
        "     = 1*2*3*.....*n\n",
        "\n",
        "input: n\n",
        "output: f(n) \n",
        "    print(f(10))\n",
        "  \n",
        "1.write a recursive function for f(n)\n",
        "2.write a iterative function for f(n)\n",
        "\n",
        "```"
      ],
      "metadata": {
        "id": "4umPFoUDZETX"
      }
    },
    {
      "cell_type": "code",
      "source": [
        "def f(n):\n",
        "    if n == 1: \n",
        "        return 1\n",
        "\n",
        "    else:\n",
        "        return(n * f(n-1))\n",
        "\n",
        "print(f(10))"
      ],
      "metadata": {
        "colab": {
          "base_uri": "https://localhost:8080/"
        },
        "id": "-80uemyJZPYc",
        "outputId": "a2d91f01-6e27-4f33-faf8-91fd450bd55c"
      },
      "execution_count": null,
      "outputs": [
        {
          "output_type": "stream",
          "name": "stdout",
          "text": [
            "3628800\n"
          ]
        }
      ]
    },
    {
      "cell_type": "code",
      "source": [
        "n = 10\n",
        "for i in range(n):\n",
        "   print(10**(3*i))\n",
        "   for i in range(n, -1, -1):\n",
        "     print(10**(3*i))"
      ],
      "metadata": {
        "colab": {
          "base_uri": "https://localhost:8080/"
        },
        "id": "kraT6Y3_Zxcp",
        "outputId": "5307fb8d-7301-4026-a9e0-e291d6a7d8ef"
      },
      "execution_count": null,
      "outputs": [
        {
          "output_type": "stream",
          "name": "stdout",
          "text": [
            "1\n",
            "1000000000000000000000000000000\n",
            "1000000000000000000000000000\n",
            "1000000000000000000000000\n",
            "1000000000000000000000\n",
            "1000000000000000000\n",
            "1000000000000000\n",
            "1000000000000\n",
            "1000000000\n",
            "1000000\n",
            "1000\n",
            "1\n",
            "1000\n",
            "1000000000000000000000000000000\n",
            "1000000000000000000000000000\n",
            "1000000000000000000000000\n",
            "1000000000000000000000\n",
            "1000000000000000000\n",
            "1000000000000000\n",
            "1000000000000\n",
            "1000000000\n",
            "1000000\n",
            "1000\n",
            "1\n",
            "1000000\n",
            "1000000000000000000000000000000\n",
            "1000000000000000000000000000\n",
            "1000000000000000000000000\n",
            "1000000000000000000000\n",
            "1000000000000000000\n",
            "1000000000000000\n",
            "1000000000000\n",
            "1000000000\n",
            "1000000\n",
            "1000\n",
            "1\n",
            "1000000000\n",
            "1000000000000000000000000000000\n",
            "1000000000000000000000000000\n",
            "1000000000000000000000000\n",
            "1000000000000000000000\n",
            "1000000000000000000\n",
            "1000000000000000\n",
            "1000000000000\n",
            "1000000000\n",
            "1000000\n",
            "1000\n",
            "1\n",
            "1000000000000\n",
            "1000000000000000000000000000000\n",
            "1000000000000000000000000000\n",
            "1000000000000000000000000\n",
            "1000000000000000000000\n",
            "1000000000000000000\n",
            "1000000000000000\n",
            "1000000000000\n",
            "1000000000\n",
            "1000000\n",
            "1000\n",
            "1\n",
            "1000000000000000\n",
            "1000000000000000000000000000000\n",
            "1000000000000000000000000000\n",
            "1000000000000000000000000\n",
            "1000000000000000000000\n",
            "1000000000000000000\n",
            "1000000000000000\n",
            "1000000000000\n",
            "1000000000\n",
            "1000000\n",
            "1000\n",
            "1\n",
            "1000000000000000000\n",
            "1000000000000000000000000000000\n",
            "1000000000000000000000000000\n",
            "1000000000000000000000000\n",
            "1000000000000000000000\n",
            "1000000000000000000\n",
            "1000000000000000\n",
            "1000000000000\n",
            "1000000000\n",
            "1000000\n",
            "1000\n",
            "1\n",
            "1000000000000000000000\n",
            "1000000000000000000000000000000\n",
            "1000000000000000000000000000\n",
            "1000000000000000000000000\n",
            "1000000000000000000000\n",
            "1000000000000000000\n",
            "1000000000000000\n",
            "1000000000000\n",
            "1000000000\n",
            "1000000\n",
            "1000\n",
            "1\n",
            "1000000000000000000000000\n",
            "1000000000000000000000000000000\n",
            "1000000000000000000000000000\n",
            "1000000000000000000000000\n",
            "1000000000000000000000\n",
            "1000000000000000000\n",
            "1000000000000000\n",
            "1000000000000\n",
            "1000000000\n",
            "1000000\n",
            "1000\n",
            "1\n",
            "1000000000000000000000000000\n",
            "1000000000000000000000000000000\n",
            "1000000000000000000000000000\n",
            "1000000000000000000000000\n",
            "1000000000000000000000\n",
            "1000000000000000000\n",
            "1000000000000000\n",
            "1000000000000\n",
            "1000000000\n",
            "1000000\n",
            "1000\n",
            "1\n"
          ]
        }
      ]
    },
    {
      "cell_type": "markdown",
      "source": [
        "## EXAMPLE 3\n",
        "```\n",
        "GCD:Greatest common divisor - Wikipedia\n",
        "gcd(8,12)=4\n",
        "https://en.wikipedia.org/wiki/Greatest_common_divisor\n",
        "\n",
        "Euclidean algorithm\n",
        "gcd(48,18)\n",
        "= gcd(18,48%18)\n",
        "= gcd(18,12)\n",
        "= gcd(12,18%12)\n",
        "= gcd(12,6)\n",
        "= gcd(6,12%6)\n",
        "= gcd(6,0)\n",
        "= 6\n",
        "\n",
        "output: gcd(n,m) \n",
        "print(gcd(48,18))\n",
        "\n",
        "gcd(18,48)  ==> gcd(48,18)  \n",
        "gcd(x,0) ==> return x\n",
        "recurrence  relation  : \n",
        "  \n",
        "1.write a recursive function for gcd(n,m)\n",
        "2.write a iterative function for gcd(n,m)\n",
        "```"
      ],
      "metadata": {
        "id": "5vpoz2q9aP-v"
      }
    },
    {
      "cell_type": "code",
      "source": [
        "def f(a, b):\n",
        "    if(b == 0):\n",
        "        return abs(a)\n",
        "    else:\n",
        "        return f(b, a % b)\n",
        " \n",
        "a = 48\n",
        "b = 18\n",
        "print(\"The gcd of 60 and 48 is : \", end=\"\")\n",
        "print(f(60, 48))"
      ],
      "metadata": {
        "colab": {
          "base_uri": "https://localhost:8080/"
        },
        "id": "ZhPAYukVacRf",
        "outputId": "382f0961-eea3-40d1-e209-62b755855b27"
      },
      "execution_count": null,
      "outputs": [
        {
          "output_type": "stream",
          "name": "stdout",
          "text": [
            "The gcd of 60 and 48 is : 12\n"
          ]
        }
      ]
    },
    {
      "cell_type": "code",
      "source": [
        "import math\n",
        "\n",
        "print (math.gcd(3, 6))\n",
        "print (math.gcd(6, 12))\n",
        "print (math.gcd(12, 36))\n",
        "print (math.gcd(-12, -36))\n",
        "print (math.gcd(5, 12))\n",
        "print (math.gcd(10, 0))\n",
        "print (math.gcd(0, 34))\n",
        "print (math.gcd(0, 0))"
      ],
      "metadata": {
        "colab": {
          "base_uri": "https://localhost:8080/"
        },
        "id": "oCrJCQWua9Rn",
        "outputId": "429663a2-7b80-41ed-94a0-87497c268b98"
      },
      "execution_count": null,
      "outputs": [
        {
          "output_type": "stream",
          "name": "stdout",
          "text": [
            "3\n",
            "6\n",
            "12\n",
            "12\n",
            "1\n",
            "10\n",
            "34\n",
            "0\n"
          ]
        }
      ]
    }
  ]
}