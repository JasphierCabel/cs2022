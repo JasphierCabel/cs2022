{
  "nbformat": 4,
  "nbformat_minor": 0,
  "metadata": {
    "colab": {
      "provenance": [],
      "collapsed_sections": []
    },
    "kernelspec": {
      "name": "python3",
      "display_name": "Python 3"
    },
    "language_info": {
      "name": "python"
    }
  },
  "cells": [
    {
      "cell_type": "markdown",
      "source": [
        "```\n",
        "1019 4110E208\n",
        "\n",
        "For Loops\n",
        "\n",
        "A for loop is used for iterating over a sequence (that is either a list, a tuple, a dictionary, a set, or a string).\n",
        "\n",
        "Print each fruit in a fruit list:\n",
        "```"
      ],
      "metadata": {
        "id": "ZjC6x658lh-z"
      }
    },
    {
      "cell_type": "code",
      "execution_count": 1,
      "metadata": {
        "colab": {
          "base_uri": "https://localhost:8080/"
        },
        "id": "rBWGWPcoldWR",
        "outputId": "be27e9da-945e-4c8f-b659-57653342449e"
      },
      "outputs": [
        {
          "output_type": "stream",
          "name": "stdout",
          "text": [
            "pineapple\n",
            "orange\n",
            "mango\n"
          ]
        }
      ],
      "source": [
        "fruits = [\"pineapple\", \"orange\", \"mango\"]\n",
        "for x in fruits:\n",
        "  print(x)"
      ]
    },
    {
      "cell_type": "markdown",
      "source": [
        "```\n",
        "The for loop does not require an indexing variable to set beforehand.\n",
        "\n",
        "Looping Through a String\n",
        "\n",
        "Even strings are iterable objects, they contain a sequence of characters:\n",
        "```"
      ],
      "metadata": {
        "id": "1dsyNRuxluHK"
      }
    },
    {
      "cell_type": "code",
      "source": [
        "for x in \"orange\":\n",
        "  print(x)"
      ],
      "metadata": {
        "colab": {
          "base_uri": "https://localhost:8080/"
        },
        "id": "NefXzpPjlxRY",
        "outputId": "878a6406-f112-4096-d09b-610f0b1ec6b8"
      },
      "execution_count": 2,
      "outputs": [
        {
          "output_type": "stream",
          "name": "stdout",
          "text": [
            "o\n",
            "r\n",
            "a\n",
            "n\n",
            "g\n",
            "e\n"
          ]
        }
      ]
    },
    {
      "cell_type": "markdown",
      "source": [
        "```\n",
        "The break Statement\n",
        "\n",
        "With the break statement we can stop the loop before it has looped through all the items:\n",
        "```\n"
      ],
      "metadata": {
        "id": "OVOB_pzWl3Yp"
      }
    },
    {
      "cell_type": "code",
      "source": [
        "fruits = [\"pineapple\", \"orange\", \"mango\"]\n",
        "for x in fruits:\n",
        "  print(x)\n",
        "  if x == \"orange\":\n",
        "    break"
      ],
      "metadata": {
        "colab": {
          "base_uri": "https://localhost:8080/"
        },
        "id": "0-XxMWeNl3FJ",
        "outputId": "497bd2ca-05e6-45f3-fb82-68a8dc0a0df7"
      },
      "execution_count": 5,
      "outputs": [
        {
          "output_type": "stream",
          "name": "stdout",
          "text": [
            "pineapple\n",
            "orange\n"
          ]
        }
      ]
    },
    {
      "cell_type": "markdown",
      "source": [
        "```\n",
        "Exit the loop when x is \"banana\", but this time the break comes before the print:\n",
        "```"
      ],
      "metadata": {
        "id": "xrlOCe10mOAM"
      }
    },
    {
      "cell_type": "code",
      "source": [
        "fruits = [\"pineapple\", \"orange\", \"mango\"]\n",
        "for x in fruits:\n",
        "  if x == \"orange\":\n",
        "    break\n",
        "  print(x)"
      ],
      "metadata": {
        "colab": {
          "base_uri": "https://localhost:8080/"
        },
        "id": "KopEo83xmSV5",
        "outputId": "3e59dc18-5848-4407-9c17-45647efae922"
      },
      "execution_count": 6,
      "outputs": [
        {
          "output_type": "stream",
          "name": "stdout",
          "text": [
            "pineapple\n"
          ]
        }
      ]
    },
    {
      "cell_type": "markdown",
      "source": [
        "```\n",
        "With the continue statement we can stop the current iteration of the loop, and continue with the next:\n",
        "```"
      ],
      "metadata": {
        "id": "oVR2xTa7mapB"
      }
    },
    {
      "cell_type": "code",
      "source": [
        "fruits = [\"pineapple\", \"orange\", \"mango\"]\n",
        "for x in fruits:\n",
        "  if x == \"orange\":\n",
        "    continue\n",
        "  print(x)"
      ],
      "metadata": {
        "colab": {
          "base_uri": "https://localhost:8080/"
        },
        "id": "zw9KWxn4mdBw",
        "outputId": "4d039560-b72a-4047-90ff-9f627f31b06c"
      },
      "execution_count": 7,
      "outputs": [
        {
          "output_type": "stream",
          "name": "stdout",
          "text": [
            "pineapple\n",
            "mango\n"
          ]
        }
      ]
    },
    {
      "cell_type": "markdown",
      "source": [
        "```\n",
        "The range() Function\n",
        "\n",
        "To loop through a set of code a specified number of times, we can use the range() function,\n",
        "\n",
        "The range() function returns a sequence of numbers, starting from 0 by default, and increments by 1 (by default), and ends at a specified number.\n",
        "```"
      ],
      "metadata": {
        "id": "Ev3Zhd9Uml5o"
      }
    },
    {
      "cell_type": "code",
      "source": [
        "for x in range(5):\n",
        "  print(x)\n",
        "# Note that range(5) is not the values of 0 to 5, but the values 0 to 4.\n"
      ],
      "metadata": {
        "colab": {
          "base_uri": "https://localhost:8080/"
        },
        "id": "-dnv3SBsmnuo",
        "outputId": "f45b022f-5d51-4d81-c338-f7d0ba870654"
      },
      "execution_count": 10,
      "outputs": [
        {
          "output_type": "stream",
          "name": "stdout",
          "text": [
            "0\n",
            "1\n",
            "2\n",
            "3\n",
            "4\n"
          ]
        }
      ]
    },
    {
      "cell_type": "markdown",
      "source": [
        "```\n",
        "The range() function defaults to 0 as a starting value, however it is possible to specify the starting value by adding a parameter: range(1, 5), which means values from 1 to 10 (but not including 5):\n",
        "```"
      ],
      "metadata": {
        "id": "8APQyX-am3gg"
      }
    },
    {
      "cell_type": "code",
      "source": [
        "for x in range(1, 5):\n",
        "  print(x)"
      ],
      "metadata": {
        "colab": {
          "base_uri": "https://localhost:8080/"
        },
        "id": "MFlEDdjynK4J",
        "outputId": "9d04c956-d63e-4d88-8919-10e15b1ea273"
      },
      "execution_count": 11,
      "outputs": [
        {
          "output_type": "stream",
          "name": "stdout",
          "text": [
            "1\n",
            "2\n",
            "3\n",
            "4\n"
          ]
        }
      ]
    },
    {
      "cell_type": "markdown",
      "source": [
        "```\n",
        "The range() function defaults to increment the sequence by 1, however it is possible to specify the increment value by adding a third parameter: range(1, 5, 2):\n",
        "```"
      ],
      "metadata": {
        "id": "4k_3dyisnM8V"
      }
    },
    {
      "cell_type": "code",
      "source": [
        "for x in range(1, 5, 2):\n",
        "  print(x)"
      ],
      "metadata": {
        "colab": {
          "base_uri": "https://localhost:8080/"
        },
        "id": "oQk_09UMnQJG",
        "outputId": "621e4feb-52b0-4d79-ee07-18cc34332713"
      },
      "execution_count": 12,
      "outputs": [
        {
          "output_type": "stream",
          "name": "stdout",
          "text": [
            "1\n",
            "3\n"
          ]
        }
      ]
    },
    {
      "cell_type": "markdown",
      "source": [
        "```\n",
        "Else in For Loop\n",
        "\n",
        "The else keyword in a for loop specifies a block of code to be executed when the loop is finished:\n",
        "```"
      ],
      "metadata": {
        "id": "aOUYYaV8nSUm"
      }
    },
    {
      "cell_type": "code",
      "source": [
        "for x in range(5):\n",
        "  print(x)\n",
        "else:\n",
        "  print(\"Done!\")"
      ],
      "metadata": {
        "colab": {
          "base_uri": "https://localhost:8080/"
        },
        "id": "XiihnUNlnTvt",
        "outputId": "65763049-5bbe-470b-bbdd-cd73185cf6d9"
      },
      "execution_count": 13,
      "outputs": [
        {
          "output_type": "stream",
          "name": "stdout",
          "text": [
            "0\n",
            "1\n",
            "2\n",
            "3\n",
            "4\n",
            "Done!\n"
          ]
        }
      ]
    },
    {
      "cell_type": "markdown",
      "source": [
        "```\n",
        "Note: The else block will NOT be executed if the loop is stopped by a break statement.\n",
        "```"
      ],
      "metadata": {
        "id": "SbmY45_9nYEO"
      }
    },
    {
      "cell_type": "code",
      "source": [
        "for x in range(5):\n",
        "  if x == 3: break\n",
        "  print(x)\n",
        "else:\n",
        "  print(\"Done!\")"
      ],
      "metadata": {
        "colab": {
          "base_uri": "https://localhost:8080/"
        },
        "id": "0FYAZ1MknZfG",
        "outputId": "a5a7581f-a4be-4086-8f24-7828f0eb117b"
      },
      "execution_count": 14,
      "outputs": [
        {
          "output_type": "stream",
          "name": "stdout",
          "text": [
            "0\n",
            "1\n",
            "2\n"
          ]
        }
      ]
    },
    {
      "cell_type": "markdown",
      "source": [
        "```\n",
        "Nested Loops\n",
        "\n",
        "A nested loop is a loop inside a loop.\n",
        "\n",
        "The \"inner loop\" will be executed one time for each iteration of the \"outer loop\":\n",
        "```"
      ],
      "metadata": {
        "id": "0droyclQndN5"
      }
    },
    {
      "cell_type": "code",
      "source": [
        "adj = [\"medium\", \"Favorite\", \"sweet\"]\n",
        "fruits = [\"pineapple\", \"orange\", \"mango\"]\n",
        "\n",
        "for x in adj:\n",
        "  for y in fruits:\n",
        "    print(x, y)"
      ],
      "metadata": {
        "colab": {
          "base_uri": "https://localhost:8080/"
        },
        "id": "jLB2joPingYT",
        "outputId": "fdc4ac2f-29a0-4244-a805-51c305652a96"
      },
      "execution_count": 15,
      "outputs": [
        {
          "output_type": "stream",
          "name": "stdout",
          "text": [
            "medium pineapple\n",
            "medium orange\n",
            "medium mango\n",
            "Favorite pineapple\n",
            "Favorite orange\n",
            "Favorite mango\n",
            "sweet pineapple\n",
            "sweet orange\n",
            "sweet mango\n"
          ]
        }
      ]
    },
    {
      "cell_type": "markdown",
      "source": [
        "```\n",
        "The pass Statement\n",
        "\n",
        "for loops cannot be empty, but if you for some reason have a for loop with no content, put in the pass statement to avoid getting an error.\n",
        "\n",
        "```"
      ],
      "metadata": {
        "id": "dXOvszkQnpZT"
      }
    },
    {
      "cell_type": "code",
      "source": [
        "for x in [\"yellow\", \"violet\", \"pink\"]:\n",
        "  pass"
      ],
      "metadata": {
        "id": "bpLYKkaBntlR"
      },
      "execution_count": 16,
      "outputs": []
    }
  ]
}