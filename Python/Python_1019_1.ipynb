{
  "nbformat": 4,
  "nbformat_minor": 0,
  "metadata": {
    "colab": {
      "provenance": [],
      "collapsed_sections": []
    },
    "kernelspec": {
      "name": "python3",
      "display_name": "Python 3"
    },
    "language_info": {
      "name": "python"
    }
  },
  "cells": [
    {
      "cell_type": "markdown",
      "source": [
        "```\n",
        "1019 4110E208\n",
        "Python Conditions and If statements\n",
        "\n",
        "Exercise 1 : Print \"Hi\" if a is greater than b.\n",
        "```"
      ],
      "metadata": {
        "id": "o-BA7Elwjtpq"
      }
    },
    {
      "cell_type": "code",
      "execution_count": 8,
      "metadata": {
        "colab": {
          "base_uri": "https://localhost:8080/"
        },
        "id": "n8lOzMivjsVR",
        "outputId": "d6c1c33c-593c-4d64-eb29-17eba5121326"
      },
      "outputs": [
        {
          "output_type": "stream",
          "name": "stdout",
          "text": [
            "Hi\n"
          ]
        }
      ],
      "source": [
        "a = 11\n",
        "b = 10\n",
        "if a > b:\n",
        "    print(\"Hi\")\n"
      ]
    },
    {
      "cell_type": "markdown",
      "source": [
        "```\n",
        "Exercise 2 : Print \"Hi\" if a is not equal to b.\n",
        "```"
      ],
      "metadata": {
        "id": "_CZOWQoHj5JU"
      }
    },
    {
      "cell_type": "code",
      "source": [
        "a = 11\n",
        "b = 10\n",
        "if a != b:\n",
        "    print(\"Hi\")"
      ],
      "metadata": {
        "colab": {
          "base_uri": "https://localhost:8080/"
        },
        "id": "9Q5XP-xTj8Vz",
        "outputId": "8903829a-510f-4646-d469-61f9d50602f3"
      },
      "execution_count": 9,
      "outputs": [
        {
          "output_type": "stream",
          "name": "stdout",
          "text": [
            "Hi\n"
          ]
        }
      ]
    },
    {
      "cell_type": "markdown",
      "source": [
        "```\n",
        "Exercise 3 : Print \"YES\" if a is equal to b, otherwise print \"NO\".\n",
        "```"
      ],
      "metadata": {
        "id": "UzPA2_pjkDD6"
      }
    },
    {
      "cell_type": "code",
      "source": [
        "a = 10\n",
        "b = 9\n",
        "if a == b:\n",
        "  print(\"YES\")\n",
        "else:\n",
        "  print(\"NO\")"
      ],
      "metadata": {
        "colab": {
          "base_uri": "https://localhost:8080/"
        },
        "id": "QX7F3J1tkFjR",
        "outputId": "90b5158c-3841-47bc-ed12-e02bbc8c0272"
      },
      "execution_count": 10,
      "outputs": [
        {
          "output_type": "stream",
          "name": "stdout",
          "text": [
            "NO\n"
          ]
        }
      ]
    },
    {
      "cell_type": "markdown",
      "source": [
        "```\n",
        "Exercise 4 : Print \"yes\" if a is equal to b, print \"maybe\" if a is greater than b, otherwise print \"no\".\n",
        "```"
      ],
      "metadata": {
        "id": "rkYHs9HtkJtX"
      }
    },
    {
      "cell_type": "code",
      "source": [
        "a = 10\n",
        "b = 9\n",
        "if a == b:\n",
        "  print(\"yes\")\n",
        "elif a > b:\n",
        "  print(\"maybe\")\n",
        "else:\n",
        "  print(\"no\")"
      ],
      "metadata": {
        "colab": {
          "base_uri": "https://localhost:8080/"
        },
        "id": "CKPvS2uzkL4a",
        "outputId": "bacce0b6-9322-424a-aa93-f91603f8fcea"
      },
      "execution_count": 11,
      "outputs": [
        {
          "output_type": "stream",
          "name": "stdout",
          "text": [
            "maybe\n"
          ]
        }
      ]
    },
    {
      "cell_type": "markdown",
      "source": [
        "```\n",
        "Exercise 5 : Print \"Hi\" if a is equal to b, and c is equal to d.\n",
        "```"
      ],
      "metadata": {
        "id": "v39V31QfkPNQ"
      }
    },
    {
      "cell_type": "code",
      "source": [
        "a = 10\n",
        "b = 10\n",
        "c = 10\n",
        "d = 10\n",
        "if a == b and c == d:\n",
        "  print(\"Hi\")"
      ],
      "metadata": {
        "colab": {
          "base_uri": "https://localhost:8080/"
        },
        "id": "zOUCrp_kkUtA",
        "outputId": "bd80c8b9-4bd3-4428-aee5-e3ea42f9c35a"
      },
      "execution_count": 12,
      "outputs": [
        {
          "output_type": "stream",
          "name": "stdout",
          "text": [
            "Hi\n"
          ]
        }
      ]
    },
    {
      "cell_type": "markdown",
      "source": [
        "```\n",
        "Exercise 6 : Print \"Hey\" if a is equal to b, or if c is equal to d.\n",
        "```"
      ],
      "metadata": {
        "id": "U23bHkuWkXzA"
      }
    },
    {
      "cell_type": "code",
      "source": [
        "a = 10\n",
        "b = 9\n",
        "c = 10\n",
        "d = 70\n",
        "if a == c or c == d:\n",
        "  print(\"Hey\")"
      ],
      "metadata": {
        "colab": {
          "base_uri": "https://localhost:8080/"
        },
        "id": "8-HY_9JGkbJj",
        "outputId": "f8664e12-9c43-4f11-d9fb-1a24e27d4523"
      },
      "execution_count": 13,
      "outputs": [
        {
          "output_type": "stream",
          "name": "stdout",
          "text": [
            "Hey\n"
          ]
        }
      ]
    },
    {
      "cell_type": "markdown",
      "source": [
        "```\n",
        "Exercise 7 : This example misses indentations to be correct.\n",
        "\n",
        "Insert the missing indentation to make the code correct:\n",
        "```"
      ],
      "metadata": {
        "id": "dSgncRR3kefo"
      }
    },
    {
      "cell_type": "code",
      "source": [
        "if 6 > 4:\n",
        "    print(\"Six is greater than four!\")"
      ],
      "metadata": {
        "colab": {
          "base_uri": "https://localhost:8080/"
        },
        "id": "cG6LoL2Hkf-g",
        "outputId": "2d138834-4254-4f16-d285-c7448a5e3585"
      },
      "execution_count": 14,
      "outputs": [
        {
          "output_type": "stream",
          "name": "stdout",
          "text": [
            "Six is greater than four!\n"
          ]
        }
      ]
    },
    {
      "cell_type": "markdown",
      "source": [
        "```\n",
        "Exercise 8 : Use the correct short hand syntax to put the following statement on one line:\n",
        "```"
      ],
      "metadata": {
        "id": "VPTQUrSYkhrr"
      }
    },
    {
      "cell_type": "code",
      "source": [
        "if 6 > 4: print(\"Six is greater than four!\")"
      ],
      "metadata": {
        "colab": {
          "base_uri": "https://localhost:8080/"
        },
        "id": "HsMJ8lrMkk0A",
        "outputId": "d019ac6b-9b23-4e32-b291-5a8fb01c48a8"
      },
      "execution_count": 15,
      "outputs": [
        {
          "output_type": "stream",
          "name": "stdout",
          "text": [
            "Six is greater than four!\n"
          ]
        }
      ]
    },
    {
      "cell_type": "markdown",
      "source": [
        "```\n",
        "Exercise 9 : Use the correct short hand syntax to write the following conditional expression in one line:\n",
        "```"
      ],
      "metadata": {
        "id": "ZmNUrmE3km4A"
      }
    },
    {
      "cell_type": "code",
      "source": [
        "print(\"Good\") if 5 > 9 else print(\"not Good\")"
      ],
      "metadata": {
        "colab": {
          "base_uri": "https://localhost:8080/"
        },
        "id": "QhG9T3a4ktcQ",
        "outputId": "f0f6780e-e324-4e50-87f6-0eb885573379"
      },
      "execution_count": 16,
      "outputs": [
        {
          "output_type": "stream",
          "name": "stdout",
          "text": [
            "not Good\n"
          ]
        }
      ]
    }
  ]
}